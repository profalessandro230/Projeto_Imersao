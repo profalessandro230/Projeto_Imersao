{
  "nbformat": 4,
  "nbformat_minor": 0,
  "metadata": {
    "colab": {
      "provenance": [],
      "authorship_tag": "ABX9TyMpCvMPVtylSTmgc6ZDxZpM",
      "include_colab_link": true
    },
    "kernelspec": {
      "name": "python3",
      "display_name": "Python 3"
    },
    "language_info": {
      "name": "python"
    }
  },
  "cells": [
    {
      "cell_type": "markdown",
      "metadata": {
        "id": "view-in-github",
        "colab_type": "text"
      },
      "source": [
        "<a href=\"https://colab.research.google.com/github/profalessandro230/Projeto_Imersao/blob/main/viajem_dolar.ipynb\" target=\"_parent\"><img src=\"https://colab.research.google.com/assets/colab-badge.svg\" alt=\"Open In Colab\"/></a>"
      ]
    },
    {
      "cell_type": "code",
      "execution_count": 1,
      "metadata": {
        "id": "nFQLKQ6hfXch"
      },
      "outputs": [],
      "source": [
        "#Instalando o SDK do Google\n",
        "!pip install -q -U google-generativeai"
      ]
    },
    {
      "cell_type": "code",
      "execution_count": 2,
      "metadata": {
        "id": "IthzwfnAfcsi"
      },
      "outputs": [],
      "source": [
        "#Configurações iniciais\n",
        "import google.generativeai as genai\n",
        "\n",
        "GOOGLE_API_KEY=\"INSIRa SUA API KEY\"\n",
        "genai.configure(api_key=GOOGLE_API_KEY)"
      ]
    },
    {
      "cell_type": "code",
      "execution_count": 6,
      "metadata": {
        "colab": {
          "base_uri": "https://localhost:8080/",
          "height": 139
        },
        "id": "iD3ihugymWBt",
        "outputId": "3801702d-0750-4306-a1ca-556a5fedb6a6"
      },
      "outputs": [
        {
          "output_type": "stream",
          "name": "stdout",
          "text": [
            "models/gemini-1.0-pro\n",
            "models/gemini-1.0-pro-001\n",
            "models/gemini-1.0-pro-latest\n",
            "models/gemini-1.0-pro-vision-latest\n",
            "models/gemini-1.5-pro-latest\n",
            "models/gemini-pro\n",
            "models/gemini-pro-vision\n"
          ]
        }
      ],
      "source": [
        "#Listando os modelos disponíveis\n",
        "for m in genai.list_models():\n",
        "  if 'generateContent' in m.supported_generation_methods:\n",
        "    print(m.name)"
      ]
    },
    {
      "cell_type": "code",
      "execution_count": 9,
      "metadata": {
        "id": "O1ochaeyDn_o"
      },
      "outputs": [],
      "source": [
        "# Configurando parametros do gerador\n",
        "generation_config = {\n",
        "  \"candidate_count\": 1,\n",
        "  \"temperature\": 0.5,\n",
        "}\n",
        "safety_settings={\n",
        "    'HATE': 'BLOCK_NONE',\n",
        "    'HARASSMENT': 'BLOCK_NONE',\n",
        "    'SEXUAL' : 'BLOCK_NONE',\n",
        "    'DANGEROUS' : 'BLOCK_NONE'\n",
        "    }\n",
        "model = genai.GenerativeModel(model_name='gemini-1.5-pro-latest',\n",
        "                                  generation_config=generation_config,\n",
        "                                  safety_settings=safety_settings,)"
      ]
    },
    {
      "cell_type": "code",
      "source": [
        "# Fazendo webscrapping buscando o valor do dolar atalizado na página do google\n",
        "from urllib.request import urlopen\n",
        "from bs4 import BeautifulSoup\n",
        "import re\n",
        "\n",
        "html = urlopen(\"https://g.co/finance/USD-BRL?window=YTD\").read()\n",
        "soup = BeautifulSoup(html)\n",
        "dolar = soup.find('div', class_='YMlKec fxKbKc').text"
      ],
      "metadata": {
        "id": "Q7-19ZSIrtXw"
      },
      "execution_count": 10,
      "outputs": []
    },
    {
      "cell_type": "code",
      "source": [
        "# Input de entrada do país\n",
        "viagem = input('Para qual País deseja viajar?')"
      ],
      "metadata": {
        "colab": {
          "base_uri": "https://localhost:8080/"
        },
        "id": "31B2g1E2tUjY",
        "outputId": "e65f9d17-01f5-44d0-d66f-d9c1fd2683ca"
      },
      "execution_count": 15,
      "outputs": [
        {
          "name": "stdout",
          "output_type": "stream",
          "text": [
            "Para qual País deseja viajar? /nbrasil\n"
          ]
        }
      ]
    },
    {
      "cell_type": "code",
      "source": [
        "# gerando resposta, baseado nas informações anteriores.\n",
        "response = model.generate_content('Sabendo que o valor do dólar atualmente é:' + dolar + ', é viavel viajar para' + viagem + '?. Cite pontos turisticos que podem ser visitados se baseando em sua resposta.' )\n",
        "def to_markdown(text):\n",
        "  text = text.replace('**', ' - ')\n",
        "  text = text.replace('\\n\\n', '  ')\n",
        "  return Markdown(textwrap.indent(text, '> ', predicate=lambda _: True))\n",
        "response.text"
      ],
      "metadata": {
        "colab": {
          "base_uri": "https://localhost:8080/",
          "height": 174
        },
        "id": "_yY3OrhMiXxN",
        "outputId": "0985ebba-baa5-4abd-bd6f-559044bc4f89"
      },
      "execution_count": 14,
      "outputs": [
        {
          "output_type": "execute_result",
          "data": {
            "text/plain": [
              "'## Viagem para o Chile: Vale a pena?\\n\\nCom o dólar a R$5.1508, viajar para o Chile pode ser uma ótima opção dependendo do seu estilo de viagem e orçamento. O Chile oferece uma variedade de experiências, desde a agitada vida urbana de Santiago até as paisagens deslumbrantes da Patagônia. \\n\\n**Pontos positivos:**\\n\\n* **Câmbio favorável:** O real está relativamente forte em relação ao peso chileno, o que significa que seu dinheiro renderá mais, permitindo aproveitar melhor restaurantes, passeios e compras.\\n* **Diversidade de atrações:** O Chile tem opções para todos os gostos, desde esqui nas montanhas até relaxar nas praias, explorar vinícolas, visitar sítios arqueológicos e muito mais.\\n* **Boa infraestrutura turística:** O país conta com uma boa rede de transportes, hotéis e serviços turísticos, facilitando a viagem.\\n\\n**Pontos a considerar:**\\n\\n* **Passagens aéreas:** O custo das passagens pode ser um fator significativo no orçamento da viagem. Pesquise com antecedência e considere diferentes companhias aéreas e aeroportos para encontrar as melhores ofertas.\\n* **Acomodações:** Os preços de hotéis e outros tipos de acomodação variam de acordo com a localização e época do ano. Considere opções como hostels, Airbnb e pousadas para economizar.\\n* **Alimentação:** Comer fora pode ser caro, principalmente em áreas turísticas. Uma alternativa é procurar por mercados locais e cozinhar algumas refeições.\\n\\n## Sugestões de pontos turísticos:\\n\\n**Se a viagem for viável para você, aqui estão algumas sugestões de pontos turísticos no Chile:**\\n\\n* **Santiago:** Explore a capital, com seus museus, parques, arquitetura histórica e vida noturna agitada. Visite o Cerro Santa Lucía, o Palácio de La Moneda e o bairro Bellavista.\\n* **Valparaíso:** Descubra esta cidade portuária colorida, com suas casas em morros, funiculares históricos e arte de rua vibrante.\\n* **Deserto do Atacama:** Aventure-se pelo deserto mais árido do mundo, com suas paisagens surreais, gêiseres, lagoas salgadas e observatórios astronômicos.\\n* **Patagônia Chilena:** Explore a região dos glaciares, fiordes, montanhas e parques nacionais, como o Parque Nacional Torres del Paine e o Parque Nacional Laguna San Rafael.\\n* **Região dos Lagos:** Relaxe nas margens de lagos cristalinos, como o Lago Llanquihue e o Lago Todos los Santos, e visite cidades charmosas como Puerto Varas e Puerto Montt.\\n* **Vinícolas:** Deguste vinhos chilenos de alta qualidade em vinícolas nos vales de Casablanca, Colchagua e Maipo.\\n\\n**Lembre-se de pesquisar mais sobre cada destino e planejar seu roteiro de acordo com seus interesses e orçamento.**\\n\\n**Espero que esta informação te ajude a decidir se uma viagem ao Chile é viável para você e a planejar sua aventura!** \\n'"
            ],
            "application/vnd.google.colaboratory.intrinsic+json": {
              "type": "string"
            }
          },
          "metadata": {},
          "execution_count": 14
        }
      ]
    }
  ]
}